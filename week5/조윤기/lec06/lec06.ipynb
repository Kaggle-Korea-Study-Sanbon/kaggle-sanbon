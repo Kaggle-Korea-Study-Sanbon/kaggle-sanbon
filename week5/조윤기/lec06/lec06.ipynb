{
 "cells": [
  {
   "cell_type": "markdown",
   "metadata": {},
   "source": [
    "# Lec 06-1. Tensorflow 로 Softmax Classification 구현하기"
   ]
  },
  {
   "cell_type": "markdown",
   "metadata": {},
   "source": [
    "![](lec06.assets/image1.png)"
   ]
  },
  {
   "cell_type": "markdown",
   "metadata": {},
   "source": [
    "**hypothesis** = tf.nn.**softmax**(tf.matmul(X,W)+b)  \n",
    "위 그림에서 scores 를 <u>**'logit'**</u> 이라고도 한다"
   ]
  },
  {
   "cell_type": "markdown",
   "metadata": {},
   "source": [
    "![](lec06.assets/image2.png)"
   ]
  },
  {
   "cell_type": "markdown",
   "metadata": {},
   "source": [
    "**cost(cross-entropy)** = tf.reduce_mean(-tf.reduce_sum(Y * tf.log(hypothesis), axis=1))"
   ]
  },
  {
   "cell_type": "code",
   "execution_count": 1,
   "metadata": {},
   "outputs": [],
   "source": [
    "import tensorflow as tf"
   ]
  },
  {
   "cell_type": "code",
   "execution_count": 9,
   "metadata": {},
   "outputs": [
    {
     "name": "stdout",
     "output_type": "stream",
     "text": [
      "0 step\n",
      "  Cost: 4.536135673522949\n",
      "200 step\n",
      "  Cost: 0.8091461062431335\n",
      "400 step\n",
      "  Cost: 0.8072640895843506\n",
      "600 step\n",
      "  Cost: 0.8073461055755615\n",
      "800 step\n",
      "  Cost: 0.8078129291534424\n",
      "1000 step\n",
      "  Cost: 0.8083454966545105\n",
      "1200 step\n",
      "  Cost: 0.808843195438385\n",
      "1400 step\n",
      "  Cost: 0.8092769980430603\n",
      "1600 step\n",
      "  Cost: 0.8096445798873901\n",
      "1800 step\n",
      "  Cost: 0.8099514842033386\n",
      "2000 step\n",
      "  Cost: 0.8102056980133057\n",
      "\n",
      "\n",
      "[[1.1198183e-07 9.6585453e-01 3.4145337e-02]],\n",
      " one-hot encoding: [1]\n",
      "\n",
      "\n",
      "[[1.11982025e-07 9.65854406e-01 3.41453999e-02]\n",
      " [4.98533365e-04 2.40798712e-01 7.58702815e-01]\n",
      " [1.14750781e-03 7.96737224e-02 9.19178843e-01]],\n",
      " one-hot encoding: [1 2 2]\n"
     ]
    }
   ],
   "source": [
    "x_data = [[1,2,1,1],\n",
    "          [2,1,3,2],\n",
    "          [3,1,3,4],\n",
    "          [4,1,5,5],\n",
    "          [1,7,5,5],\n",
    "          [1,2,5,6],\n",
    "          [1,6,6,6],\n",
    "          [1,7,7,7]]\n",
    "y_data = [[0,0,1],  # 2\n",
    "          [0,0,1],  \n",
    "          [0,0,1],  \n",
    "          [0,1,0],  # 1\n",
    "          [0,1,0],\n",
    "          [0,1,0],\n",
    "          [0,0,1],  # 0 \n",
    "          [0,0,1]]\n",
    "\n",
    "X = tf.placeholder('float', [None, 4])\n",
    "Y = tf.placeholder('float', [None, 3])  # 3 class\n",
    "n_classes = 3\n",
    "\n",
    "W = tf.Variable(tf.random_normal([4, n_classes]), name='weight')\n",
    "b = tf.Variable(tf.random_normal([n_classes]), name='bias')\n",
    "\n",
    "# softmax = exp(logits) / reduce_sum(exp(logits), dim)\n",
    "hypothesis = tf.nn.softmax(tf.matmul(X,W) + b)\n",
    "\n",
    "cost = tf.reduce_mean(-tf.reduce_sum(Y * tf.log(hypothesis), axis=1))\n",
    "optimizer = tf.train.GradientDescentOptimizer(learning_rate=0.1).minimize(cost)\n",
    "\n",
    "with tf.Session() as sess:\n",
    "    sess.run(tf.global_variables_initializer())\n",
    "    \n",
    "    for step in range(2001):\n",
    "        sess.run(optimizer, feed_dict={X:x_data, Y:y_data})\n",
    "        if step % 200 == 0:\n",
    "            print(f'{step} step\\n  Cost: {sess.run(cost, feed_dict={X:x_data, Y:y_data})}')\n",
    "                                          \n",
    "    # Testing & One-hot encoding\n",
    "    a = sess.run(hypothesis, feed_dict={X: [[1, 11, 7, 9]]})\n",
    "    print(f'\\n\\n{a},\\n one-hot encoding: {sess.run(tf.arg_max(a, 1))}')\n",
    "  \n",
    "    _all = sess.run(hypothesis, feed_dict={X: [[1, 11, 7, 9],\n",
    "                                              [1, 3, 4, 3],\n",
    "                                              [1, 1, 0, 1]]})\n",
    "    print(f'\\n\\n{_all},\\n one-hot encoding: {sess.run(tf.arg_max(_all, 1))}')"
   ]
  },
  {
   "cell_type": "code",
   "execution_count": null,
   "metadata": {},
   "outputs": [],
   "source": []
  }
 ],
 "metadata": {
  "kernelspec": {
   "display_name": "Python 3",
   "language": "python",
   "name": "python3"
  },
  "language_info": {
   "codemirror_mode": {
    "name": "ipython",
    "version": 3
   },
   "file_extension": ".py",
   "mimetype": "text/x-python",
   "name": "python",
   "nbconvert_exporter": "python",
   "pygments_lexer": "ipython3",
   "version": "3.7.4"
  }
 },
 "nbformat": 4,
 "nbformat_minor": 2
}
