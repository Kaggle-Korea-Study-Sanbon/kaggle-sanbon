{
  "nbformat": 4,
  "nbformat_minor": 0,
  "metadata": {
    "colab": {
      "name": "산본스터디(3/10).ipynb",
      "provenance": [],
      "collapsed_sections": []
    },
    "kernelspec": {
      "name": "python3",
      "display_name": "Python 3"
    }
  },
  "cells": [
    {
      "cell_type": "markdown",
      "metadata": {
        "id": "NW9jXsUMbm-R",
        "colab_type": "text"
      },
      "source": [
        "# 예시로 배우는 평균의 정확성\n",
        "- 경험적 히스토그램의 확률적 히스토그램으로\n",
        "- 중심극한정리"
      ]
    },
    {
      "cell_type": "markdown",
      "metadata": {
        "id": "cXfTcJbtbusv",
        "colab_type": "text"
      },
      "source": [
        "1부터 7까지의 카드가 한 장씩 들어 있는 상자를 이용하여 표본평균에 대해 알아보자. 25개의 카드를 복원추출"
      ]
    },
    {
      "cell_type": "code",
      "metadata": {
        "id": "iIJlsptlcmi2",
        "colab_type": "code",
        "outputId": "096d16b2-d793-4fae-ff71-7b667fa6f5ce",
        "colab": {
          "base_uri": "https://localhost:8080/",
          "height": 34
        }
      },
      "source": [
        "import numpy as np\n",
        "import random\n",
        "import matplotlib.pyplot as plt\n",
        "\n",
        "box= np.array([1,2,3,4,5,6,7])\n",
        "\n",
        "choiceLIst = [random.choice(box) for i in range(25)] # 복원추출로 25개의 숫자를 박스에서 꺼내보자\n",
        "choiceLIst"
      ],
      "execution_count": 0,
      "outputs": [
        {
          "output_type": "execute_result",
          "data": {
            "text/plain": [
              "[4, 5, 4, 1, 4, 7, 1, 6, 7, 3, 2, 4, 2, 1, 2, 7, 2, 5, 7, 5, 7, 4, 7, 1, 2]"
            ]
          },
          "metadata": {
            "tags": []
          },
          "execution_count": 120
        }
      ]
    },
    {
      "cell_type": "code",
      "metadata": {
        "id": "6AZXDpkUeb00",
        "colab_type": "code",
        "outputId": "eda06b1c-7e2c-403a-9d80-facf03bfed33",
        "colab": {
          "base_uri": "https://localhost:8080/",
          "height": 34
        }
      },
      "source": [
        "# 상자의 평균 (모평균)\n",
        "box.mean()"
      ],
      "execution_count": 0,
      "outputs": [
        {
          "output_type": "execute_result",
          "data": {
            "text/plain": [
              "4.0"
            ]
          },
          "metadata": {
            "tags": []
          },
          "execution_count": 121
        }
      ]
    },
    {
      "cell_type": "code",
      "metadata": {
        "id": "5sBXEUJxesEd",
        "colab_type": "code",
        "outputId": "690463d8-1960-44db-99f7-ec15e2223709",
        "colab": {
          "base_uri": "https://localhost:8080/",
          "height": 34
        }
      },
      "source": [
        "#모집단 합의 기대값 (이항분포 기대값 = n*p)\n",
        "box.mean()*25 "
      ],
      "execution_count": 0,
      "outputs": [
        {
          "output_type": "execute_result",
          "data": {
            "text/plain": [
              "100.0"
            ]
          },
          "metadata": {
            "tags": []
          },
          "execution_count": 122
        }
      ]
    },
    {
      "cell_type": "markdown",
      "metadata": {
        "id": "RIEM-pa-fTAN",
        "colab_type": "text"
      },
      "source": [
        "25개의 추출을 무수히 많이 실행하면 어떻게 될까??\n",
        "- 여기서 그 무수히를 10,50,100,1000,10000으로 가정해보자."
      ]
    },
    {
      "cell_type": "code",
      "metadata": {
        "id": "RB32QDeJfZpJ",
        "colab_type": "code",
        "colab": {}
      },
      "source": [
        "def make_sum_hist(num,range_num=25):\n",
        "  total_list=[]\n",
        "  for _ in range(0,num):\n",
        "    choiceLIst = [random.choice(box) for i in range(range_num)] # 복원추출로 25개의 숫자를 박스에서 꺼내보자\n",
        "    total_list.append(choiceLIst)\n",
        "\n",
        "  graph_list=[]\n",
        "  for li in total_list:\n",
        "    graph_list.append(sum(li))\n",
        "\n",
        "  plt.title(num)\n",
        "  plt.hist(graph_list)\n",
        "  plt.show()\n",
        "\n",
        "def make_sampling_dist(num,range_num=25):\n",
        "  total_list=[]\n",
        "  for _ in range(0,num):\n",
        "    choiceLIst = [random.choice(box) for i in range(range_num)] # 복원추출로 25개의 숫자를 박스에서 꺼내보자\n",
        "    total_list.append(choiceLIst)\n",
        "\n",
        "  graph_list=[]\n",
        "  for li in total_list:\n",
        "    graph_list.append(sum(li)/range_num)                       # 단순히 표본크기로 나누나 마냐 그차이임.\n",
        "\n",
        "  plt.title(num)\n",
        "  plt.hist(graph_list)\n",
        "  plt.show()"
      ],
      "execution_count": 0,
      "outputs": []
    },
    {
      "cell_type": "markdown",
      "metadata": {
        "id": "9pwEsj08h3CZ",
        "colab_type": "text"
      },
      "source": [
        "숫자 추출의 반복이 많아질수록 그것에 대한 합의 평균이 점점 기대값으로 가까워진다. 경험적 히스토그램이 확률히스토그램으로 되는 것을 볼 수가 있다.\n",
        "- 경험적 히스토그램 : 우리가 직접 시행해서 얻는 히스토그램\n",
        "- 확률적 히스토그램 : 우리가 계산한 확률로 만든 히스토그램"
      ]
    },
    {
      "cell_type": "code",
      "metadata": {
        "id": "MTPDSArPgSB6",
        "colab_type": "code",
        "outputId": "e75a73c1-1981-4dbc-b230-fa3ca2976175",
        "colab": {
          "base_uri": "https://localhost:8080/",
          "height": 1000
        }
      },
      "source": [
        "for i in [10,50,100,1000,10000,100000]:\n",
        "  make_hist(i)"
      ],
      "execution_count": 0,
      "outputs": [
        {
          "output_type": "display_data",
          "data": {
            "image/png": "[encoded data removed]",
            "text/plain": [
              "<Figure size 432x288 with 1 Axes>"
            ]
          },
          "metadata": {
            "tags": []
          }
        },
        {
          "output_type": "display_data",
          "data": {
            "image/png": "[encoded data removed]",
            "text/plain": [
              "<Figure size 432x288 with 1 Axes>"
            ]
          },
          "metadata": {
            "tags": []
          }
        },
        {
          "output_type": "display_data",
          "data": {
            "image/png": "[encoded data removed]",
            "text/plain": [
              "<Figure size 432x288 with 1 Axes>"
            ]
          },
          "metadata": {
            "tags": []
          }
        },
        {
          "output_type": "display_data",
          "data": {
            "image/png": "[encoded data removed]",
            "text/plain": [
              "<Figure size 432x288 with 1 Axes>"
            ]
          },
          "metadata": {
            "tags": []
          }
        },
        {
          "output_type": "display_data",
          "data": {
            "image/png": "[encoded data removed]",
            "text/plain": [
              "<Figure size 432x288 with 1 Axes>"
            ]
          },
          "metadata": {
            "tags": []
          }
        },
        {
          "output_type": "display_data",
          "data": {
            "image/png": "[encoded data removed]",
            "text/plain": [
              "<Figure size 432x288 with 1 Axes>"
            ]
          },
          "metadata": {
            "tags": []
          }
        }
      ]
    },
    {
      "cell_type": "markdown",
      "metadata": {
        "id": "ZZHnTAgliJIA",
        "colab_type": "text"
      },
      "source": [
        "그럼 여기서 표본평균은 어떻게 구하면 되는 것인가?"
      ]
    },
    {
      "cell_type": "code",
      "metadata": {
        "id": "QEVxVTo9jNh3",
        "colab_type": "code",
        "outputId": "23d01f16-f349-491f-e286-eae2cba57611",
        "colab": {
          "base_uri": "https://localhost:8080/",
          "height": 52
        }
      },
      "source": [
        "#표본합의 기대값 \n",
        "print(25*box.mean())\n",
        "#표본합의 표준편차:\n",
        "print(np.sqrt(25)*box.std())"
      ],
      "execution_count": 0,
      "outputs": [
        {
          "output_type": "stream",
          "text": [
            "100.0\n",
            "10.0\n"
          ],
          "name": "stdout"
        }
      ]
    },
    {
      "cell_type": "markdown",
      "metadata": {
        "id": "yP77HKxdlQLI",
        "colab_type": "text"
      },
      "source": [
        "표본합의 기대값,표본합의 표준편차에에서 표본의 개수로만 나눠주면 된다.\n",
        "- 결과적으로 표본 평균은 4이고, 그에 대한 표준편차는 0.4인 것을 알 수있다.\n",
        "- 여기서 우리는 정규본포의 원리를 이용해서 64,95%의 법칙을 이용해 모집단의 평균을 추정하는 것이다."
      ]
    },
    {
      "cell_type": "code",
      "metadata": {
        "id": "wxi8LnTpih6X",
        "colab_type": "code",
        "outputId": "bf2e28af-c570-43a8-bc46-3762b79347b2",
        "colab": {
          "base_uri": "https://localhost:8080/",
          "height": 52
        }
      },
      "source": [
        "#모집단의 평균 \n",
        "print(box.mean()) =4\n",
        "#모짐단 평균의 표준편차:\n",
        "print(np.sqrt(25)*box.std()/25) = 0.4"
      ],
      "execution_count": 0,
      "outputs": [
        {
          "output_type": "stream",
          "text": [
            "4.0\n",
            "0.4\n"
          ],
          "name": "stdout"
        }
      ]
    },
    {
      "cell_type": "code",
      "metadata": {
        "id": "pMsGd7GJmIVd",
        "colab_type": "code",
        "outputId": "3b4e2323-471a-4cc9-9279-6e3d449f0194",
        "colab": {
          "base_uri": "https://localhost:8080/",
          "height": 1000
        }
      },
      "source": [
        "for i in [10,50,100,1000,10000,100000]:\n",
        "  make_sampling_dist(i)"
      ],
      "execution_count": 0,
      "outputs": [
        {
          "output_type": "display_data",
          "data": {
            "image/png": "[encoded data removed]",
            "text/plain": [
              "<Figure size 432x288 with 1 Axes>"
            ]
          },
          "metadata": {
            "tags": []
          }
        },
        {
          "output_type": "display_data",
          "data": {
            "image/png": "[encoded data removed]",
            "text/plain": [
              "<Figure size 432x288 with 1 Axes>"
            ]
          },
          "metadata": {
            "tags": []
          }
        },
        {
          "output_type": "display_data",
          "data": {
            "image/png": "[encoded data removed]",
            "text/plain": [
              "<Figure size 432x288 with 1 Axes>"
            ]
          },
          "metadata": {
            "tags": []
          }
        },
        {
          "output_type": "display_data",
          "data": {
            "image/png": "[encoded data removed]",
            "text/plain": [
              "<Figure size 432x288 with 1 Axes>"
            ]
          },
          "metadata": {
            "tags": []
          }
        },
        {
          "output_type": "display_data",
          "data": {
            "image/png": "[encoded data removed]",
            "text/plain": [
              "<Figure size 432x288 with 1 Axes>"
            ]
          },
          "metadata": {
            "tags": []
          }
        },
        {
          "output_type": "display_data",
          "data": {
            "image/png": "[encoded data removed]",
            "text/plain": [
              "<Figure size 432x288 with 1 Axes>"
            ]
          },
          "metadata": {
            "tags": []
          }
        }
      ]
    },
    {
      "cell_type": "markdown",
      "metadata": {
        "id": "25GO_fnPoJqu",
        "colab_type": "text"
      },
      "source": [
        "박스안에 들어있는 숫자들이 정규분포와 다르게 분포해도 성립함.\n",
        "- 중심극한정리의 원리를 생각하면 됨.\n",
        "- 표본의 크기(추출횟수)만 늘리면 정규분포 곡선으로 잘 근사함."
      ]
    },
    {
      "cell_type": "code",
      "metadata": {
        "id": "kl8EWo7VoUxl",
        "colab_type": "code",
        "outputId": "4b85c1e2-e2d9-4bc3-c5b1-30fe44d897fd",
        "colab": {
          "base_uri": "https://localhost:8080/",
          "height": 335
        }
      },
      "source": [
        "box = np.array([1,2,3,4,5,6,7,8,8,8,8,8,8,8])\n",
        "print(box.mean())\n",
        "plt.hist(box) "
      ],
      "execution_count": 0,
      "outputs": [
        {
          "output_type": "stream",
          "text": [
            "6.0\n"
          ],
          "name": "stdout"
        },
        {
          "output_type": "execute_result",
          "data": {
            "text/plain": [
              "(array([1., 1., 1., 0., 1., 1., 0., 1., 1., 7.]),\n",
              " array([1. , 1.7, 2.4, 3.1, 3.8, 4.5, 5.2, 5.9, 6.6, 7.3, 8. ]),\n",
              " <a list of 10 Patch objects>)"
            ]
          },
          "metadata": {
            "tags": []
          },
          "execution_count": 128
        },
        {
          "output_type": "display_data",
          "data": {
            "image/png": "[encoded data removed]",
            "text/plain": [
              "<Figure size 432x288 with 1 Axes>"
            ]
          },
          "metadata": {
            "tags": []
          }
        }
      ]
    },
    {
      "cell_type": "markdown",
      "metadata": {
        "id": "Wly_duY51uza",
        "colab_type": "text"
      },
      "source": [
        "단 여기서 조건이 있다. 시행횟수는 무한히(상당히 많이 줬다.)라는 것의 기반이 있어야함."
      ]
    },
    {
      "cell_type": "code",
      "metadata": {
        "id": "_d8RMChgo395",
        "colab_type": "code",
        "outputId": "03084eb3-c009-4997-9f1f-09ff0cc53015",
        "colab": {
          "base_uri": "https://localhost:8080/",
          "height": 1000
        }
      },
      "source": [
        "for i in [10,50,100,1000,10000]:\n",
        "  make_sum_hist(i,1000)"
      ],
      "execution_count": 0,
      "outputs": [
        {
          "output_type": "display_data",
          "data": {
            "image/png": "[encoded data removed]",
            "text/plain": [
              "<Figure size 432x288 with 1 Axes>"
            ]
          },
          "metadata": {
            "tags": []
          }
        },
        {
          "output_type": "display_data",
          "data": {
            "image/png": "[encoded data removed]",
            "text/plain": [
              "<Figure size 432x288 with 1 Axes>"
            ]
          },
          "metadata": {
            "tags": []
          }
        },
        {
          "output_type": "display_data",
          "data": {
            "image/png": "[encoded data removed]",
            "text/plain": [
              "<Figure size 432x288 with 1 Axes>"
            ]
          },
          "metadata": {
            "tags": []
          }
        },
        {
          "output_type": "display_data",
          "data": {
            "image/png": "[encoded data removed]",
            "text/plain": [
              "<Figure size 432x288 with 1 Axes>"
            ]
          },
          "metadata": {
            "tags": []
          }
        },
        {
          "output_type": "display_data",
          "data": {
            "image/png": "[encoded data removed]",
            "text/plain": [
              "<Figure size 432x288 with 1 Axes>"
            ]
          },
          "metadata": {
            "tags": []
          }
        }
      ]
    },
    {
      "cell_type": "code",
      "metadata": {
        "id": "FPVLpHdSp1Uo",
        "colab_type": "code",
        "outputId": "802f53cb-f239-4e4a-95ad-ceb1e64fd9fc",
        "colab": {
          "base_uri": "https://localhost:8080/",
          "height": 1000
        }
      },
      "source": [
        "for i in [10,50,100,1000,10000]:\n",
        "  make_sampling_dist(i,1000)"
      ],
      "execution_count": 0,
      "outputs": [
        {
          "output_type": "display_data",
          "data": {
            "image/png": "[encoded data removed]",
            "text/plain": [
              "<Figure size 432x288 with 1 Axes>"
            ]
          },
          "metadata": {
            "tags": []
          }
        },
        {
          "output_type": "display_data",
          "data": {
            "image/png": "[encoded data removed]",
            "text/plain": [
              "<Figure size 432x288 with 1 Axes>"
            ]
          },
          "metadata": {
            "tags": []
          }
        },
        {
          "output_type": "display_data",
          "data": {
            "image/png": "[encoded data removed]",
            "text/plain": [
              "<Figure size 432x288 with 1 Axes>"
            ]
          },
          "metadata": {
            "tags": []
          }
        },
        {
          "output_type": "display_data",
          "data": {
            "image/png": "[encoded data removed]",
            "text/plain": [
              "<Figure size 432x288 with 1 Axes>"
            ]
          },
          "metadata": {
            "tags": []
          }
        },
        {
          "output_type": "display_data",
          "data": {
            "image/png": "[encoded data removed]",
            "text/plain": [
              "<Figure size 432x288 with 1 Axes>"
            ]
          },
          "metadata": {
            "tags": []
          }
        }
      ]
    },
    {
      "cell_type": "markdown",
      "metadata": {
        "id": "dLAsJf7h358E",
        "colab_type": "text"
      },
      "source": [
        "\n",
        "---"
      ]
    },
    {
      "cell_type": "markdown",
      "metadata": {
        "id": "N6GG2hLZ3wjJ",
        "colab_type": "text"
      },
      "source": [
        "제곱근의 법칙\n",
        "- 표본크기가 증가할수록 표본합의 표준오차는 증가하지만 표본평균의 표준오차는 감소한다. "
      ]
    },
    {
      "cell_type": "code",
      "metadata": {
        "id": "6Q8_dy-5346L",
        "colab_type": "code",
        "outputId": "749b38d4-0c05-4c32-c8ef-c51b3db1a914",
        "colab": {
          "base_uri": "https://localhost:8080/",
          "height": 52
        }
      },
      "source": [
        "box=np.array([1,2,3,4,5,6,7])\n",
        "print('mean:',box.mean())\n",
        "print('std:',box.std())"
      ],
      "execution_count": 0,
      "outputs": [
        {
          "output_type": "stream",
          "text": [
            "mean: 4.0\n",
            "std: 2.0\n"
          ],
          "name": "stdout"
        }
      ]
    },
    {
      "cell_type": "markdown",
      "metadata": {
        "id": "Cw60-WCu5T71",
        "colab_type": "text"
      },
      "source": [
        "표본이 25일 때"
      ]
    },
    {
      "cell_type": "code",
      "metadata": {
        "id": "nUAhQ9eK4oiJ",
        "colab_type": "code",
        "colab": {}
      },
      "source": [
        "def cal_1(n,mean,std):\n",
        "  ex = mean*n\n",
        "  se = np.sqrt(n)*std\n",
        "\n",
        "  print('표본의 개수가 %s 일때 표본합의'%(n))\n",
        "\n",
        "  print('기대값은',ex)\n",
        "  print('표준오차는',se)\n",
        "\n",
        "def cal_2(n,mean,std):\n",
        "  ex = mean*n/n\n",
        "  se = np.sqrt(n)*std/n\n",
        "\n",
        "  print('표본의 개수가 %s 일때 표본평균의'%(n))\n",
        "\n",
        "  print('기대값은',ex)\n",
        "  print('표준오차는',se)"
      ],
      "execution_count": 0,
      "outputs": []
    },
    {
      "cell_type": "code",
      "metadata": {
        "id": "gYWGuoOe50Sl",
        "colab_type": "code",
        "outputId": "939d6bcb-8fe8-4576-9a35-41c257f0d0ad",
        "colab": {
          "base_uri": "https://localhost:8080/",
          "height": 70
        }
      },
      "source": [
        "cal_1(25,box.mean(),box.std())"
      ],
      "execution_count": 0,
      "outputs": [
        {
          "output_type": "stream",
          "text": [
            "표본의 개수가 25 일때 표본합의\n",
            "기대값은 100.0\n",
            "표준오차는 10.0\n"
          ],
          "name": "stdout"
        }
      ]
    },
    {
      "cell_type": "code",
      "metadata": {
        "id": "RH6VaAEH6LQ2",
        "colab_type": "code",
        "outputId": "b43e5b9d-1379-432d-b8ac-34f8e045b7b8",
        "colab": {
          "base_uri": "https://localhost:8080/",
          "height": 70
        }
      },
      "source": [
        "cal_1(100,box.mean(),box.std())"
      ],
      "execution_count": 0,
      "outputs": [
        {
          "output_type": "stream",
          "text": [
            "표본의 개수가 100 일때 표본합의\n",
            "기대값은 400.0\n",
            "표준오차는 20.0\n"
          ],
          "name": "stdout"
        }
      ]
    },
    {
      "cell_type": "markdown",
      "metadata": {
        "id": "HyJajlbV6lw-",
        "colab_type": "text"
      },
      "source": [
        "표본평균은 어떻게 변할까?"
      ]
    },
    {
      "cell_type": "code",
      "metadata": {
        "id": "vzoekm116o_7",
        "colab_type": "code",
        "outputId": "72816ea4-5b1e-4521-efcb-a900f0d22e76",
        "colab": {
          "base_uri": "https://localhost:8080/",
          "height": 70
        }
      },
      "source": [
        "cal_2(25,box.mean(),box.std())"
      ],
      "execution_count": 0,
      "outputs": [
        {
          "output_type": "stream",
          "text": [
            "표본의 개수가 25 일때 표본평균의\n",
            "기대값은 4.0\n",
            "표준오차는 0.4\n"
          ],
          "name": "stdout"
        }
      ]
    },
    {
      "cell_type": "code",
      "metadata": {
        "id": "fZx9tSke65GZ",
        "colab_type": "code",
        "outputId": "fb239ca3-d973-4566-d9d8-a9827f508227",
        "colab": {
          "base_uri": "https://localhost:8080/",
          "height": 70
        }
      },
      "source": [
        "cal_2(100,box.mean(),box.std())"
      ],
      "execution_count": 0,
      "outputs": [
        {
          "output_type": "stream",
          "text": [
            "표본의 개수가 100 일때 표본평균의\n",
            "기대값은 4.0\n",
            "표준오차는 0.2\n"
          ],
          "name": "stdout"
        }
      ]
    },
    {
      "cell_type": "markdown",
      "metadata": {
        "id": "OEbEh-K97jsc",
        "colab_type": "text"
      },
      "source": [
        "제곱근의 법칙으로 알 수 있는 것은 무엇일까?\n",
        "- 표본을 늘릴 수록 기대값에 대한 표준 오차는 증가를 하지만, 결국 우리가 원하는 평균(**왜냐하면 이걸로 모집단의 모수를 추정해야 하기 때문**)의 표준편차는 줄어드는 것을 알 수 있다.\n",
        "- 이유는 간단하다. 표준편차를 구할 때 \"루트n(표본개수)\" 을 곱하지만\n",
        " - 평균의 표준편차를 구할 때 n(표본개수)로 나눠주기 때문임.\n",
        " - 루트n/n = 1/루트n이 되므로 제곱근의 법칙이 되는 것."
      ]
    },
    {
      "cell_type": "markdown",
      "metadata": {
        "id": "nCGvU-B9Cxlv",
        "colab_type": "text"
      },
      "source": [
        "모집단의 평균을 추정할 때, 표본 평균과 표본 평균의 오차(표본표준편차)로 신뢰구간을 잡아 구해야 하는 이유는?\n",
        "- 표본합의 표준오차(표준편차*루트n)는 하나의 관측치가 상자의 평균에 떨어져 있는 정도를 보여주는 것.\n",
        "- 표본평균의 표준오차(표본표준편차/n)는 추출한 관측치들의 평균이 상자의 평균에 떨어져 있는 정도를 보여주는 것.\n"
      ]
    },
    {
      "cell_type": "markdown",
      "metadata": {
        "id": "BFnzRvVXu_rg",
        "colab_type": "text"
      },
      "source": [
        "# 유의성 검정\n",
        "- 귀무가설을 기각해야할지 기각을 할지 말지를 정할 때 쓰는 방법\n",
        "z = (통계량 - 기대값) / 통계량의 표준오차"
      ]
    },
    {
      "cell_type": "markdown",
      "metadata": {
        "id": "aEa2USpYvAsv",
        "colab_type": "text"
      },
      "source": [
        "여기서 알아야할 제일 중요한 개념\n",
        "분자에 사용된 통계량에 따라 통계량(관측치)의 표준오차는 바뀐다는 점이다.\n",
        "\n",
        "통계량이 합(n*표본의 평균)인지, 평균(표본의 평균), 표본 개수(n*p)에 따라서\n",
        "- 분모에 합의 표준오차, 표본평균의 표준오차,표본 개수의 표준오차를 쓸지를 정해야함.\n",
        "___\n",
        "ex)\n",
        "한 사장로부터 무작위로 100장의 카드를 복원추출한다. 추출한 값들은 평균이 102.7이고, 표준편차가 10이다. 누군가 상자 안의 평균이 100이라고 주장한다면 그 주장은 믿을만한가? 또 평균이 101.1이라고 주장한다면 어떤가?\n",
        "- n(표분의 개수) =100, 표본의 평균 = 102.7, 표본의 표준편차(표준편차,s) = 10\n",
        "- 귀무가설: 1. 모집단의 평균은 100이다. 2. 모집단의 평균이 101.1이다.\n",
        "----\n"
      ]
    },
    {
      "cell_type": "markdown",
      "metadata": {
        "id": "UvrHOl6lyW9Y",
        "colab_type": "text"
      },
      "source": [
        "z = (통계량 - 기대값) / 통계량의 표준오차\n",
        "\n",
        "z = (102.7 -100)/ 10 일까? 아니다. 여기서는 분모에 들어가는 관측치(통계량)가 평균이기 때문에\n",
        "- z = (102.7-100)/(10/루트(100)) 으로 해야함.\n",
        " - z = 2.7 이므로 기무가설이 참이다는 가정하에 표본의 평균이 102.7일 확률은 z= 2.7이상일 확률이므로 0.0135 (1.35%)\n",
        " - 유의수준을 2로 정했으면 z=2.7이므로 귀무가설을 기각한다."
      ]
    },
    {
      "cell_type": "markdown",
      "metadata": {
        "id": "Wjz6_wXGXfBF",
        "colab_type": "text"
      },
      "source": [
        "# 두 집단간 평균의 차이에 대한 검정\n",
        "- 두 집단간 독립이 되어야 가능함.\n",
        " - 두 평균간 차이의 표준오차는 (var(X_)+var(Y_))^{1/2} : 제곱근 분산합 공식\n",
        "\n",
        " ![대체 텍스트](http://www.stat.yale.edu/Courses/1997-98/101/zstat2.gif)\n",
        "\n",
        " - 귀무가설에서는 M1-M2가 0 이기 때문에, 분자는(X1표본평균-X2표본평균)"
      ]
    }
  ]
}
