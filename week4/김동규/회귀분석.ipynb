{
  "nbformat": 4,
  "nbformat_minor": 0,
  "metadata": {
    "colab": {
      "name": "회귀분석.ipynb",
      "provenance": [],
      "collapsed_sections": []
    },
    "kernelspec": {
      "name": "python3",
      "display_name": "Python 3"
    }
  },
  "cells": [
    {
      "cell_type": "markdown",
      "metadata": {
        "id": "Qk3uP73RVSpL",
        "colab_type": "text"
      },
      "source": [
        "# 회귀분석\n",
        "- 단순회귀분석: 하나의 변수와 또 하나의 변수간의 관계를 분석하는 방법\n",
        "- 중회귀분석: 하나의 변수와 둘 또는 그 이상 변수간의 관계 분석"
      ]
    },
    {
      "cell_type": "markdown",
      "metadata": {
        "id": "E7VveSbSVlZX",
        "colab_type": "text"
      },
      "source": [
        "## 표준편차선\n",
        "- x와 y의 표준단위가 같은 점들은 평균점을 지남 -> 표준편차선(ex: 키와 몸무게의 표준화된 변수 값이 같은 점들을 이은 직선)\n",
        "- 다른 요인들이 있기떄문에 상관계수는 1보다 작음\n",
        " - 그렇기 떄문에 표준편차선보다 회귀선은 완만하게됨.\n",
        " - 모든 점들이 표준편차선 위에 있다는 것은 상관계수가 1이라는 것을 의미함."
      ]
    },
    {
      "cell_type": "markdown",
      "metadata": {
        "id": "e5lQCaSUWYMf",
        "colab_type": "text"
      },
      "source": [
        "## 평균의 그래프\n",
        "- 회귀직선은 평균의 그래프를 선형으로 근사시킨 것.\n",
        " - ex) 키 별로 몸무게의 평균이 나옴 \"150cm의 평균 몸무게는 47g\" 이런식으로 x 축의 집단(구간)마다 평균을 구하고 그것을 통해 근사를 시킨 직선이 **회귀선**\n",
        " \n",
        " ![대체 텍스트](https://upload.wikimedia.org/wikipedia/commons/b/be/Normdist_regression.png)\n",
        "\n",
        "- 평균의 그래프를 하나의 직선으로 근사시키는 것이 부적절한 경우\n",
        "  - x와 y가 비선형관계에 있으면, 회귀직선은 비선형 관계를 제대로 반영하지 못한다.\n",
        "  - 하지만 관계가 없다고 함부로 생각하면 안됨."
      ]
    },
    {
      "cell_type": "markdown",
      "metadata": {
        "id": "UDZfbXI7Xl9y",
        "colab_type": "text"
      },
      "source": [
        "## 회귀 효과 (평범으로의 회귀)\n",
        "- 산포도 상에서 모든 점들이 하나의 직선상에 위치하지 않는 한 늘상 발생하는 현상.\n",
        " - ex) 시험-재시험 상황에서, 두 시험점수는 차이가 나기 마련. 첫시험에서 점수 낮은 집단 -> 재시험에서는 평균적으로 점수가 올라가는 경향, 첫 시험 점수가 높았던 집단 -> 평균적으로 점수가 떨어지는 경향\n",
        "- 이유는 상관계수의 원리를 생각하면 됨.(표준편차선보다 항상 완만하기 때문)"
      ]
    },
    {
      "cell_type": "markdown",
      "metadata": {
        "id": "6rfPZ8DHa4VA",
        "colab_type": "text"
      },
      "source": [
        "## 회귀 오류\n",
        "- 회귀효과가 산포도상에서 단지 자료가 퍼져 있다는 사실 말고도 무언가 다른 중요한 이유 때문에 발생한다고 착각하는 것"
      ]
    },
    {
      "cell_type": "markdown",
      "metadata": {
        "id": "UvLUjPq3cJ-F",
        "colab_type": "text"
      },
      "source": [
        "## 그 외 \n",
        "- x가 1SD 증가하면 y는 r*SD 증가\n",
        "- 회귀분석은 x와 y의 관계를 이용하여 새로운 x 정보를 가지고 y값을 예측하게 해줌. 하지만 새로운 x가 기존 x와 성격이 다르거나, 기존 x의 범위 밖인 경우에도 주의를 기울여야한다."
      ]
    },
    {
      "cell_type": "markdown",
      "metadata": {
        "id": "yV2Te8oLccM6",
        "colab_type": "text"
      },
      "source": [
        "# 회귀분석의 오차"
      ]
    },
    {
      "cell_type": "markdown",
      "metadata": {
        "id": "l6smG83ed99-",
        "colab_type": "text"
      },
      "source": [
        "## 실제값과 추정치의 차이\n",
        "- 실제값과 예측치 사이에는 차이가 나기  마련\n",
        "- 제곱근-평균-제곱 오차(RMSE = 추정의 표준오차, 회귀의 표준오차)\n",
        "\n",
        "![대체 텍스트](https://i.stack.imgur.com/eG03B.png)\n",
        "\n",
        "- 원래는 N-2를 함. (추정치를 구할 때, 회귀직선상의 y절편과 기울기에 의해서 결정되기 때문임. -> 표본으로부터 계산한 두 개의 정보를 사용한 셈.)\n",
        "- RMSE는 산포도상의 점들이 회귀직선으로부터 수직거리로 얼마나 떨어져 있는지 그 전반적인 크기를 알려준다.\n",
        "- **회귀직선과 RMSE의 관계는 평균과 표준편차의 관계와 똑같이 생각할 수 있다.**\n",
        " - 회귀선 = 평균, RMSE = 표준편차\n",
        " - RMSE를 통해 68%, 95% 법칙이 성립 가능\n",
        " ![대체 텍스트](https://user-images.githubusercontent.com/31824102/34830490-ea5cece2-f6db-11e7-9234-4fd206e010d1.PNG)"
      ]
    },
    {
      "cell_type": "markdown",
      "metadata": {
        "id": "BrOhA6iloHg-",
        "colab_type": "text"
      },
      "source": [
        "## 잔차도\n",
        "- 잔차도가 어떤 체계적인 페턴을 보이는 경우 회귀직선에 무언가 문제가 있다고 보아야함.\n",
        "\n",
        "![대체 텍스트](https://s3-us-west-2.amazonaws.com/courses-images/wp-content/uploads/sites/1729/2017/04/15031925/m3_examining_relationships_topic_3_3_asses_fit_line_u1_m2_assessfitline_image5.gif)\n",
        "![대체 텍스트](https://s3-us-west-2.amazonaws.com/courses-images/wp-content/uploads/sites/1729/2017/04/15031927/m3_examining_relationships_topic_3_3_asses_fit_line_u1_m2_assessfitline_image6.gif)"
      ]
    },
    {
      "cell_type": "markdown",
      "metadata": {
        "id": "LzJP9NQDpg-a",
        "colab_type": "text"
      },
      "source": [
        "## 세로띠\n",
        "- 등분산성 vs 이분산성\n",
        " - 등분산성: 퍼진 정도가 세로띠 마다 같을 때\n",
        " - 이분산성: 퍼진 정도가 세로띠 마다 다를 때\n",
        " \n",
        " ![대체 텍스트](https://www.ssacstat.com/base/component/board/board_12/u_image/289/20151229070705_2120153943.png) ![대체 텍스트](https://www.ssacstat.com/base/component/board/board_12/u_image/289/20151229070913_963068411.png)"
      ]
    },
    {
      "cell_type": "markdown",
      "metadata": {
        "id": "Zq6VoJxwrn3m",
        "colab_type": "text"
      },
      "source": [
        "- **이분산성이 존재할 경우, 회귀직선의 RMSE는 서로 다른 x값에 대응하는 추정오차들의 전반적인 크기를 나타낼뿐 세로띠별로 추정오차의 크기는 알려주지는 못한다.**\n",
        "- 등분산성은 회귀직선을 중심으로하여 점들이 위 아래로 퍼진 정도가 모든 세로띠에 걸쳐 같다는 가정 (x의 값마다 y의 표준편차들이 상호 비슷하다는 것), 데이터의 분포가 타원형을 띌 때 등분산성을 이룬다고 생각하면 됨."
      ]
    },
    {
      "cell_type": "markdown",
      "metadata": {
        "id": "w_LUd5jlr0i_",
        "colab_type": "text"
      },
      "source": [
        "## 세로띠(x값마다) 안의 y값 분포를 정규분포로 근사시키기\n",
        "- 산포도가 이분산성을 띠거나, 잔차도가 비선형(패턴)을 보이면 사용하면 안됨."
      ]
    },
    {
      "cell_type": "markdown",
      "metadata": {
        "id": "vK94iijSxyq5",
        "colab_type": "text"
      },
      "source": [
        "---"
      ]
    },
    {
      "cell_type": "markdown",
      "metadata": {
        "id": "78mom47tsocV",
        "colab_type": "text"
      },
      "source": [
        "# 회귀직선"
      ]
    },
    {
      "cell_type": "markdown",
      "metadata": {
        "id": "oPHcKXMPxBMA",
        "colab_type": "text"
      },
      "source": [
        "## 회귀분석은 만병통치약이 아니다\n",
        "- 변수간 관계가가 비선형성을 띠면 어떻게 할 것인가?\n",
        "- 선형성이 있다고 해서 회귀직선이 반드시 의미가 있는가?"
      ]
    },
    {
      "cell_type": "markdown",
      "metadata": {
        "id": "Rv6_X5F7uTUB",
        "colab_type": "text"
      },
      "source": [
        "변수 통제\n",
        "1. 실험을 통한 통제\n",
        "2. 통계적 통제(중회귀분석)"
      ]
    },
    {
      "cell_type": "markdown",
      "metadata": {
        "id": "u070Bll2ugeN",
        "colab_type": "text"
      },
      "source": [
        "즉, 회귀직선의 기울기는 X값을 변화시킬 경우 Y값이 얼마나 변화는가를 알기 위해 사용된다. **하지만 이 경우는 통제된 실험에 의해 도출되었을 경우에 일반적으로 타당**\n",
        "\n",
        "ex) 대학을 마친 사람은 고등학교만 졸업한 사람보다 평균적으로 28만원 더 버는 것으로 관측 됐다. 정부가 무작위로 고졸 사람들을 뽑아 대학에 보내 4년간 교육을 받게 시키는 경우에도 소득이 28만원 더 증가하는 것인가?\n",
        "- 아니다. 지적능력, 야망, 가정환경 등 다른 많은 요인에서도 차이를 보일 것. 따라서 두 집단 사이에서 관측된 소득의 차이를 나타내는 기울기를 '외부개입-내부반응'으로 해석하는 것이 곤란함"
      ]
    },
    {
      "cell_type": "markdown",
      "metadata": {
        "id": "c2n-rtCXs2Yj",
        "colab_type": "text"
      },
      "source": [
        "## 중회귀분석\n",
        "- 다른 요인을 통제하기 위한 하나의 통계적 방법\n",
        "- 경험적 연구를 할 경우 회귀직선은 단지 관찰된 자료에 대해서만 말해줄 뿐.\n",
        "- 다른 변수의 효과를 통제한 뒤 어느 한 변수만의 효과를 분리 측정하기 위해 중회귀분석을 사용"
      ]
    },
    {
      "cell_type": "markdown",
      "metadata": {
        "id": "zTN1vYzMx5Ks",
        "colab_type": "text"
      },
      "source": [
        "# python"
      ]
    },
    {
      "cell_type": "code",
      "metadata": {
        "id": "u0MKs7ohyA24",
        "colab_type": "code",
        "outputId": "fabdec17-7fe7-447e-86a6-173e3bd088c5",
        "colab": {
          "base_uri": "https://localhost:8080/",
          "height": 126
        }
      },
      "source": [
        "from google.colab import drive\n",
        "drive.mount('/content/drive')"
      ],
      "execution_count": 0,
      "outputs": [
        {
          "output_type": "stream",
          "text": [
            "Go to this URL in a browser: https://accounts.google.com/o/oauth2/auth?client_id=947318989803-6bn6qk8qdgf4n4g3pfee6491hc0brc4i.apps.googleusercontent.com&redirect_uri=urn%3aietf%3awg%3aoauth%3a2.0%3aoob&response_type=code&scope=email%20https%3a%2f%2fwww.googleapis.com%2fauth%2fdocs.test%20https%3a%2f%2fwww.googleapis.com%2fauth%2fdrive%20https%3a%2f%2fwww.googleapis.com%2fauth%2fdrive.photos.readonly%20https%3a%2f%2fwww.googleapis.com%2fauth%2fpeopleapi.readonly\n",
            "\n",
            "Enter your authorization code:\n",
            "··········\n",
            "Mounted at /content/drive\n"
          ],
          "name": "stdout"
        }
      ]
    },
    {
      "cell_type": "code",
      "metadata": {
        "id": "u9Z5Fb_QyLSA",
        "colab_type": "code",
        "colab": {}
      },
      "source": [
        "import numpy as np\n",
        "import pandas as pd\n",
        "%matplotlib inline\n",
        "import matplotlib.pyplot as plt\n",
        "import seaborn as sns\n",
        "color = sns.color_palette()\n",
        "sns.set_style('darkgrid')\n",
        "import warnings\n",
        "def ignore_warn(*args,**kwargs):\n",
        "  pass\n",
        "warnings.warn = ignore_warn # 경고 발생시 무시\n",
        "\n",
        "from scipy import stats\n",
        "from scipy.stats import norm, skew # 수치해석 기능(확률분포) 제공"
      ],
      "execution_count": 0,
      "outputs": []
    },
    {
      "cell_type": "code",
      "metadata": {
        "id": "tXyReTWjyWAa",
        "colab_type": "code",
        "colab": {}
      },
      "source": [
        "\n",
        "# Pandas DataFrame 불러오기\n",
        "train = pd.read_csv('/content/drive/My Drive/Colab Notebooks/data/Kaggle_data/home-data-for-ml-course/train.csv')\n",
        "test = pd.read_csv('/content/drive/My Drive/Colab Notebooks/data/Kaggle_data/home-data-for-ml-course/test.csv')"
      ],
      "execution_count": 0,
      "outputs": []
    },
    {
      "cell_type": "code",
      "metadata": {
        "id": "nPuhfblpyYpl",
        "colab_type": "code",
        "outputId": "fc1bd7ed-1bbb-45b3-975e-a7ddf1031a2b",
        "colab": {
          "base_uri": "https://localhost:8080/",
          "height": 282
        }
      },
      "source": [
        "fig,ax = plt.subplots()\n",
        "ax.scatter(x=train['GrLivArea'],y=train['SalePrice'])\n",
        "plt.ylabel('SalePrice',fontsize=13)\n",
        "plt.xlabel('GrLivArea',fontsize=13)\n",
        "plt.show()"
      ],
      "execution_count": 0,
      "outputs": [
        {
          "output_type": "display_data",
          "data": {
            "image/png": "[encoded data removed]",
            "text/plain": [
              "<Figure size 432x288 with 1 Axes>"
            ]
          },
          "metadata": {
            "tags": []
          }
        }
      ]
    },
    {
      "cell_type": "code",
      "metadata": {
        "id": "kC0MSyONypkl",
        "colab_type": "code",
        "outputId": "bfe2362c-1861-4c26-c668-908e436df9e0",
        "colab": {
          "base_uri": "https://localhost:8080/",
          "height": 387
        }
      },
      "source": [
        "sns.lmplot(x='GrLivArea',y='SalePrice',data=train)"
      ],
      "execution_count": 0,
      "outputs": [
        {
          "output_type": "execute_result",
          "data": {
            "text/plain": [
              "<seaborn.axisgrid.FacetGrid at 0x7f0f5fba5a90>"
            ]
          },
          "metadata": {
            "tags": []
          },
          "execution_count": 5
        },
        {
          "output_type": "display_data",
          "data": {
            "image/png": "[encoded data removed]",
            "text/plain": [
              "<Figure size 360x360 with 1 Axes>"
            ]
          },
          "metadata": {
            "tags": []
          }
        }
      ]
    }
  ]
}