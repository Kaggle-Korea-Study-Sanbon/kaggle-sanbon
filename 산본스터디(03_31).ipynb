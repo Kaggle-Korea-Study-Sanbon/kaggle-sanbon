{
  "nbformat": 4,
  "nbformat_minor": 0,
  "metadata": {
    "colab": {
      "name": "산본스터디(03/31).ipynb",
      "provenance": [],
      "collapsed_sections": []
    },
    "kernelspec": {
      "name": "python3",
      "display_name": "Python 3"
    }
  },
  "cells": [
    {
      "cell_type": "code",
      "metadata": {
        "id": "szm3IpnWVurj",
        "colab_type": "code",
        "colab": {}
      },
      "source": [
        "import pandas as pd\n",
        "import numpy as np\n",
        "import matplotlib.pyplot as plt\n",
        "import seaborn as sns\n",
        "from sklearn.pipeline import Pipeline"
      ],
      "execution_count": 0,
      "outputs": []
    },
    {
      "cell_type": "markdown",
      "metadata": {
        "id": "GD7yXmcJNTzh",
        "colab_type": "text"
      },
      "source": [
        "# 회귀 모델\n",
        "공식 이미지 출처: https://hwiyong.tistory.com/93"
      ]
    },
    {
      "cell_type": "markdown",
      "metadata": {
        "id": "9G_ZLUwAJ-7V",
        "colab_type": "text"
      },
      "source": [
        "## 선형성 vs 비선형성\n",
        "- 변수가 비선형? x, 회귀계수가 바선형인 것을 뜻하는 것.\n",
        "- 선형회귀 : 표현력에 한계\n",
        "  - 현실 데이터가 선형 결합으로 표현이 불가능한 데이터라면 정확한 회귀 모델을 만들 수 없습니다.\n",
        "- 비선형회귀: 현실 세계의 복잡한 관계도 거의 대부분 표현이 가능\n",
        "  -  불필요한 잡음을 모델에 반영하는 overfitting 문제가 발생할 가능성이 더 커짐"
      ]
    },
    {
      "cell_type": "markdown",
      "metadata": {
        "id": "F-pyAsvvKIBp",
        "colab_type": "text"
      },
      "source": [
        "## 종속변수 개수에 따른 구분\n",
        "- 단변량 선형(or 비선형) 회귀모델\n",
        "- 다변량 선형(or 비선형) 회귀모델"
      ]
    },
    {
      "cell_type": "markdown",
      "metadata": {
        "id": "OHltTfcZRuVl",
        "colab_type": "text"
      },
      "source": [
        "## 선형 회귀 모델\n",
        "- 형태가 단순한 만큼 데이터에 대한 많은 가정을 가지고 있음.\n",
        "1. 오차항은 평균이 0이고 분산이 일정한 정규 분포를 갖는다.\n",
        "2. 독립변수와 종속변수는 선형 관계이다.\n",
        "3. 오차항은 자기 상관성이 없다.\n",
        "4. 데이터에 아웃라이어가 없다.\n",
        "5. 독립변수와 오차항은 서로 독립이다.\n",
        "6. 독립변수 간에서는 서로 선형적으로 독립이다."
      ]
    },
    {
      "cell_type": "code",
      "metadata": {
        "id": "FOKadrGYUHrc",
        "colab_type": "code",
        "outputId": "c0036e22-e307-48ba-e409-025c54e06e4f",
        "colab": {
          "base_uri": "https://localhost:8080/",
          "height": 213
        }
      },
      "source": [
        "from sklearn.datasets import load_boston\n",
        "boston = load_boston()\n",
        "bostonDF = pd.DataFrame(boston.data,columns=boston.feature_names)\n",
        "bostonDF['PRICE'] = boston.target\n",
        "print('boston 데이터 세트 크기:,',bostonDF.shape)\n",
        "bostonDF.head()"
      ],
      "execution_count": 0,
      "outputs": [
        {
          "output_type": "stream",
          "text": [
            "boston 데이터 세트 크기:, (506, 14)\n"
          ],
          "name": "stdout"
        },
        {
          "output_type": "execute_result",
          "data": {
            "text/html": [
              "<div>\n",
              "<style scoped>\n",
              "    .dataframe tbody tr th:only-of-type {\n",
              "        vertical-align: middle;\n",
              "    }\n",
              "\n",
              "    .dataframe tbody tr th {\n",
              "        vertical-align: top;\n",
              "    }\n",
              "\n",
              "    .dataframe thead th {\n",
              "        text-align: right;\n",
              "    }\n",
              "</style>\n",
              "<table border=\"1\" class=\"dataframe\">\n",
              "  <thead>\n",
              "    <tr style=\"text-align: right;\">\n",
              "      <th></th>\n",
              "      <th>CRIM</th>\n",
              "      <th>ZN</th>\n",
              "      <th>INDUS</th>\n",
              "      <th>CHAS</th>\n",
              "      <th>NOX</th>\n",
              "      <th>RM</th>\n",
              "      <th>AGE</th>\n",
              "      <th>DIS</th>\n",
              "      <th>RAD</th>\n",
              "      <th>TAX</th>\n",
              "      <th>PTRATIO</th>\n",
              "      <th>B</th>\n",
              "      <th>LSTAT</th>\n",
              "      <th>PRICE</th>\n",
              "    </tr>\n",
              "  </thead>\n",
              "  <tbody>\n",
              "    <tr>\n",
              "      <th>0</th>\n",
              "      <td>0.00632</td>\n",
              "      <td>18.0</td>\n",
              "      <td>2.31</td>\n",
              "      <td>0.0</td>\n",
              "      <td>0.538</td>\n",
              "      <td>6.575</td>\n",
              "      <td>65.2</td>\n",
              "      <td>4.0900</td>\n",
              "      <td>1.0</td>\n",
              "      <td>296.0</td>\n",
              "      <td>15.3</td>\n",
              "      <td>396.90</td>\n",
              "      <td>4.98</td>\n",
              "      <td>24.0</td>\n",
              "    </tr>\n",
              "    <tr>\n",
              "      <th>1</th>\n",
              "      <td>0.02731</td>\n",
              "      <td>0.0</td>\n",
              "      <td>7.07</td>\n",
              "      <td>0.0</td>\n",
              "      <td>0.469</td>\n",
              "      <td>6.421</td>\n",
              "      <td>78.9</td>\n",
              "      <td>4.9671</td>\n",
              "      <td>2.0</td>\n",
              "      <td>242.0</td>\n",
              "      <td>17.8</td>\n",
              "      <td>396.90</td>\n",
              "      <td>9.14</td>\n",
              "      <td>21.6</td>\n",
              "    </tr>\n",
              "    <tr>\n",
              "      <th>2</th>\n",
              "      <td>0.02729</td>\n",
              "      <td>0.0</td>\n",
              "      <td>7.07</td>\n",
              "      <td>0.0</td>\n",
              "      <td>0.469</td>\n",
              "      <td>7.185</td>\n",
              "      <td>61.1</td>\n",
              "      <td>4.9671</td>\n",
              "      <td>2.0</td>\n",
              "      <td>242.0</td>\n",
              "      <td>17.8</td>\n",
              "      <td>392.83</td>\n",
              "      <td>4.03</td>\n",
              "      <td>34.7</td>\n",
              "    </tr>\n",
              "    <tr>\n",
              "      <th>3</th>\n",
              "      <td>0.03237</td>\n",
              "      <td>0.0</td>\n",
              "      <td>2.18</td>\n",
              "      <td>0.0</td>\n",
              "      <td>0.458</td>\n",
              "      <td>6.998</td>\n",
              "      <td>45.8</td>\n",
              "      <td>6.0622</td>\n",
              "      <td>3.0</td>\n",
              "      <td>222.0</td>\n",
              "      <td>18.7</td>\n",
              "      <td>394.63</td>\n",
              "      <td>2.94</td>\n",
              "      <td>33.4</td>\n",
              "    </tr>\n",
              "    <tr>\n",
              "      <th>4</th>\n",
              "      <td>0.06905</td>\n",
              "      <td>0.0</td>\n",
              "      <td>2.18</td>\n",
              "      <td>0.0</td>\n",
              "      <td>0.458</td>\n",
              "      <td>7.147</td>\n",
              "      <td>54.2</td>\n",
              "      <td>6.0622</td>\n",
              "      <td>3.0</td>\n",
              "      <td>222.0</td>\n",
              "      <td>18.7</td>\n",
              "      <td>396.90</td>\n",
              "      <td>5.33</td>\n",
              "      <td>36.2</td>\n",
              "    </tr>\n",
              "  </tbody>\n",
              "</table>\n",
              "</div>"
            ],
            "text/plain": [
              "      CRIM    ZN  INDUS  CHAS    NOX  ...    TAX  PTRATIO       B  LSTAT  PRICE\n",
              "0  0.00632  18.0   2.31   0.0  0.538  ...  296.0     15.3  396.90   4.98   24.0\n",
              "1  0.02731   0.0   7.07   0.0  0.469  ...  242.0     17.8  396.90   9.14   21.6\n",
              "2  0.02729   0.0   7.07   0.0  0.469  ...  242.0     17.8  392.83   4.03   34.7\n",
              "3  0.03237   0.0   2.18   0.0  0.458  ...  222.0     18.7  394.63   2.94   33.4\n",
              "4  0.06905   0.0   2.18   0.0  0.458  ...  222.0     18.7  396.90   5.33   36.2\n",
              "\n",
              "[5 rows x 14 columns]"
            ]
          },
          "metadata": {
            "tags": []
          },
          "execution_count": 3
        }
      ]
    },
    {
      "cell_type": "code",
      "metadata": {
        "id": "7ykFBvnKV9MS",
        "colab_type": "code",
        "outputId": "e6e511eb-b9da-4a42-a976-e700e5e84c2c",
        "colab": {
          "base_uri": "https://localhost:8080/",
          "height": 70
        }
      },
      "source": [
        "from sklearn.model_selection import train_test_split\n",
        "from sklearn.linear_model import LinearRegression\n",
        "from sklearn.metrics import mean_squared_error,r2_score\n",
        "\n",
        "y_target = bostonDF['PRICE']\n",
        "X_data = bostonDF.drop(['PRICE'],axis=1,inplace=False)\n",
        "\n",
        "X_train,X_test,y_train,y_test = train_test_split(X_data,y_target,test_size=0.3,\n",
        "                                                 random_state=156)\n",
        "\n",
        "# 선형 회귀 OLS로 학습,예측,평가 수행.\n",
        "lr = LinearRegression()\n",
        "lr.fit(X_train,y_train)\n",
        "\n",
        "y_preds = lr.predict(X_test)\n",
        "mse = mean_squared_error(y_test,y_preds)\n",
        "rmse = np.sqrt(mse)\n",
        "print('rmse:',rmse)\n",
        "print('Train Variance score:',lr.score(X_train,y_train))\n",
        "print('Test Variance score:',r2_score(y_test,y_preds)) #print('Variance score:',lr.score(X_test,y_test))"
      ],
      "execution_count": 0,
      "outputs": [
        {
          "output_type": "stream",
          "text": [
            "rmse: 4.1589561079556985\n",
            "Train Variance score: 0.7273505005599823\n",
            "Test Variance score: 0.7572263323138941\n"
          ],
          "name": "stdout"
        }
      ]
    },
    {
      "cell_type": "code",
      "metadata": {
        "id": "6F7vSx57WFC0",
        "colab_type": "code",
        "outputId": "53d8811e-317a-4158-c330-8e12b61b071c",
        "colab": {
          "base_uri": "https://localhost:8080/",
          "height": 70
        }
      },
      "source": [
        "print('절편 값:',lr.intercept_)\n",
        "print('회귀계수 값:',np.round(lr.coef_,1))"
      ],
      "execution_count": 0,
      "outputs": [
        {
          "output_type": "stream",
          "text": [
            "절편 값: 40.995595172164755\n",
            "회귀계수 값: [ -0.1   0.1   0.    3.  -19.8   3.4   0.   -1.7   0.4  -0.   -0.9   0.\n",
            "  -0.6]\n"
          ],
          "name": "stdout"
        }
      ]
    },
    {
      "cell_type": "markdown",
      "metadata": {
        "id": "6tkt4LWFT6B7",
        "colab_type": "text"
      },
      "source": [
        "## 독립변수와 종속변수가 선형 관계가 X"
      ]
    },
    {
      "cell_type": "markdown",
      "metadata": {
        "id": "X24NvnwLT-FX",
        "colab_type": "text"
      },
      "source": [
        "다항회귀 (Polynomial regression)\n",
        "- 독립변수에 지수승을 붙여서 여러 개의 변수로 만들어 회귀 모델을 구성하는 기법"
      ]
    },
    {
      "cell_type": "code",
      "metadata": {
        "id": "EHkGKwBFW2K6",
        "colab_type": "code",
        "colab": {}
      },
      "source": [
        "from sklearn.preprocessing import PolynomialFeatures\n",
        "# degree : 변수에 몇 제곱을 가할지 정해주는 것\n",
        "'''\n",
        "include_bias : boolean \n",
        "If True (default), then include a bias column,\n",
        "the feature in which all polynomial powers are zero (i.e. a column of ones - acts as an intercept term in a linear model).\n",
        "'''"
      ],
      "execution_count": 0,
      "outputs": []
    },
    {
      "cell_type": "code",
      "metadata": {
        "id": "dAFn1lkPWhaC",
        "colab_type": "code",
        "outputId": "8a424866-5210-42d3-8ed0-0ff5e965a0d4",
        "colab": {
          "base_uri": "https://localhost:8080/",
          "height": 105
        }
      },
      "source": [
        "y_target = bostonDF['PRICE']\n",
        "X_data = bostonDF.drop('PRICE',axis=1,inplace=False)\n",
        "\n",
        "X_train,X_test,y_train,y_test = train_test_split(X_data,y_target,test_size=0.3,random_state=156)\n",
        "\n",
        "## Pipeline을 이용한 PolynomialFeatures 변환과 LinearRegression 적용을 순차적으로 결합.\n",
        "p_model = Pipeline([('poly',PolynomialFeatures(degree=2,include_bias=False)),\n",
        "                    ('linear',LinearRegression())])\n",
        "\n",
        "p_model.fit(X_train,y_train)\n",
        "y_preds = p_model.predict(X_test)\n",
        "mse = mean_squared_error(y_test,y_preds)\n",
        "rmse = np.sqrt(mse)\n",
        "\n",
        "print('MSE: {0:.3f},RMSE : {1:.3f}'.format(mse,rmse))\n",
        "print('Variance score: {0:.3f}'.format(r2_score(y_test,y_preds)))\n",
        "\n",
        "# 3차 다항식으로 증가시키면 어떻게 될까?\n",
        "p_model = Pipeline([('poly',PolynomialFeatures(degree=3,include_bias=False)),\n",
        "                    ('linear',LinearRegression())])\n",
        "\n",
        "p_model.fit(X_train,y_train)\n",
        "y_preds = p_model.predict(X_test)\n",
        "mse = mean_squared_error(y_test,y_preds)\n",
        "rmse = np.sqrt(mse)\n",
        "\n",
        "print('MSE: {0:.3f},RMSE : {1:.3f}'.format(mse,rmse))\n",
        "print('Variance score: {0:.3f}'.format(r2_score(y_test,y_preds)))"
      ],
      "execution_count": 0,
      "outputs": [
        {
          "output_type": "stream",
          "text": [
            "ERROR! Session/line number was not unique in database. History logging moved to new session 59\n",
            "MSE: 15.556,RMSE : 3.944\n",
            "Variance score: 0.782\n",
            "MSE: 79625.595,RMSE : 282.180\n",
            "Variance score: -1116.598\n"
          ],
          "name": "stdout"
        }
      ]
    },
    {
      "cell_type": "markdown",
      "metadata": {
        "id": "2RZsQ2G-bZxx",
        "colab_type": "text"
      },
      "source": [
        "다항회귀는 오버피팅(과적합)을 주의해야 함."
      ]
    },
    {
      "cell_type": "markdown",
      "metadata": {
        "id": "WuV7-d1UdQ1W",
        "colab_type": "text"
      },
      "source": [
        "---"
      ]
    },
    {
      "cell_type": "markdown",
      "metadata": {
        "id": "fSDAkHqCqqdg",
        "colab_type": "text"
      },
      "source": [
        "## 리지 회귀\n",
        "- 기본 선형 회귀 방식 대신 가장 널리 쓰이는 모델\n",
        "- **가중치의 절댓값을 가능한 한 작게 만드는 것이 목표**\n",
        "- L2 규제 : W의 제곱에 대해 페널티를 부여하는 방식\n",
        "![대체 텍스트](https://img1.daumcdn.net/thumb/R1280x0/?scode=mtistory2&fname=https%3A%2F%2Ft1.daumcdn.net%2Fcfile%2Ftistory%2F99BE24355C90F8522D)\n",
        "\n",
        "- alpha 값을 변경한다는 것은 penelty term을 제어 하는 것을 의미함. alpha값이 클수록 penalty 또한 커지게 되면서 계수의 크기가 줄어든다.\n",
        "  - alpha 값이 커지면 ->회귀 계수 w 감소 (Overfitting 개선)\n",
        "  - alpha 값이 작아지면 -> RSS(w) 최소화 (학습 데이터 적합을 더 개선)"
      ]
    },
    {
      "cell_type": "code",
      "metadata": {
        "id": "2eN6q7N5xEjQ",
        "colab_type": "code",
        "outputId": "ba55a410-9b48-437d-ec22-f0f10672cfd9",
        "colab": {
          "base_uri": "https://localhost:8080/",
          "height": 70
        }
      },
      "source": [
        "from sklearn.linear_model import Ridge\n",
        "\n",
        "ridge = Ridge(5).fit(X_train,y_train)\n",
        "y_preds = ridge.predict(X_test)\n",
        "mse = mean_squared_error(y_test,y_preds)\n",
        "rmse = np.sqrt(mse)\n",
        "print('rmse:',rmse)\n",
        "print('Train Variance score:',ridge.score(X_train,y_train))\n",
        "print('Test Variance score:',ridge.score(X_test,y_test))"
      ],
      "execution_count": 0,
      "outputs": [
        {
          "output_type": "stream",
          "text": [
            "rmse: 4.184014787150442\n",
            "Train Variance score: 0.7178072991900555\n",
            "Test Variance score: 0.7542919830143353\n"
          ],
          "name": "stdout"
        }
      ]
    },
    {
      "cell_type": "markdown",
      "metadata": {
        "id": "yG2Ub6nh0Xhp",
        "colab_type": "text"
      },
      "source": [
        "alpha 값이 클수록 훈련세트에서 성능이 나빠지지만 더 일반화된 모델이 된다.\n",
        "- 아주 작은 alpha 값은 계수를 거의 제한하지 않게 되므로 일반 선형회귀모델과 비슷해짐."
      ]
    },
    {
      "cell_type": "code",
      "metadata": {
        "id": "57w6m0DO1KFh",
        "colab_type": "code",
        "outputId": "13eb078b-16fc-45d9-b1f3-0257d892b03d",
        "colab": {
          "base_uri": "https://localhost:8080/",
          "height": 70
        }
      },
      "source": [
        "ridge = Ridge(0.1).fit(X_train,y_train)\n",
        "y_preds = ridge.predict(X_test)\n",
        "mse = mean_squared_error(y_test,y_preds)\n",
        "rmse = np.sqrt(mse)\n",
        "print('rmse:',rmse)\n",
        "print('Train Variance score:',ridge.score(X_train,y_train))\n",
        "print('Test Variance score:',ridge.score(X_test,y_test))"
      ],
      "execution_count": 0,
      "outputs": [
        {
          "output_type": "stream",
          "text": [
            "rmse: 4.152624793103486\n",
            "Train Variance score: 0.7272569626530365\n",
            "Test Variance score: 0.7579649342693625\n"
          ],
          "name": "stdout"
        }
      ]
    },
    {
      "cell_type": "code",
      "metadata": {
        "id": "mM9CkQzO3QRl",
        "colab_type": "code",
        "colab": {}
      },
      "source": [
        "alphas =[0,0.1,1,10,100,1000]"
      ],
      "execution_count": 0,
      "outputs": []
    },
    {
      "cell_type": "code",
      "metadata": {
        "id": "66padIb_1vsj",
        "colab_type": "code",
        "outputId": "8c933dc9-bb0c-41af-cac8-56c65d275fc2",
        "colab": {
          "base_uri": "https://localhost:8080/",
          "height": 441
        }
      },
      "source": [
        "fig, axs = plt.subplots(figsize=(18,6),nrows=1, ncols=6)\n",
        "\n",
        "for pos, alpha in enumerate(alphas):\n",
        "  ridge = Ridge(alpha=alpha)\n",
        "  ridge.fit(X_train,y_train)\n",
        "\n",
        "  coeff = pd.Series(data=ridge.coef_,index=X_train.columns)\n",
        "  colname = 'alpha'+str(alpha)\n",
        "  \n",
        "  coeff = coeff.sort_values(ascending = True)\n",
        "  axs[pos].set_title(colname)\n",
        "  axs[pos].set_xlim(-3,6)\n",
        "  sns.barplot(x=coeff.values, y=coeff.index,ax=axs[pos])\n",
        "\n",
        "plt.tight_layout()\n",
        "plt.show()"
      ],
      "execution_count": 0,
      "outputs": [
        {
          "output_type": "display_data",
          "data": {
            "image/png": "[encoded data removed]",
            "text/plain": [
              "<Figure size 1296x432 with 6 Axes>"
            ]
          },
          "metadata": {
            "tags": []
          }
        }
      ]
    },
    {
      "cell_type": "markdown",
      "metadata": {
        "id": "6Nr_CXq-5XJu",
        "colab_type": "text"
      },
      "source": [
        "CHAS 와 NOX 피처가 alpha 값을 증가시킴에 따라 회귀 계수가 크게 작아지는 것을 볼 수 있다."
      ]
    },
    {
      "cell_type": "markdown",
      "metadata": {
        "id": "5xKEBvMh5sPY",
        "colab_type": "text"
      },
      "source": [
        "**리지 회귀의 경우에는 회귀계수를 0으로 만들지는 않는다.**\n",
        "\n",
        "**애초에 중요한 것은 데이터를 충분히 주면 규제 항은 덜 중요해져서 리지 회귀와 선형 회귀의 성능이 같아질 것이다.**"
      ]
    },
    {
      "cell_type": "markdown",
      "metadata": {
        "id": "RmB-iEr25mVp",
        "colab_type": "text"
      },
      "source": [
        "## 라쏘 회귀\n",
        "- L1 규제 적용: W의 절댓값에 페널티를 부여하는 방식\n",
        "- 회귀계수를 정말 0으로 만들어 버림 (완전히 제외되는 피처가 생김, feature selection이 자동으로 이루어짐)\n",
        "  - 이 모델의 가장 중요한 feature가 무엇인지 드러내준다.\n",
        "![대체 텍스트](https://img1.daumcdn.net/thumb/R1280x0/?scode=mtistory2&fname=https%3A%2F%2Ft1.daumcdn.net%2Fcfile%2Ftistory%2F99B45E355C90F8532C)"
      ]
    },
    {
      "cell_type": "code",
      "metadata": {
        "id": "2_evK84j-4Uy",
        "colab_type": "code",
        "outputId": "7000f30f-5e71-418b-a247-2c4961d53321",
        "colab": {
          "base_uri": "https://localhost:8080/",
          "height": 369
        }
      },
      "source": [
        "from sklearn.linear_model import Lasso\n",
        "lasso_alphas=[0.07,0.1,0.5,1,3]\n",
        "\n",
        "coeff_df = pd.DataFrame()\n",
        "for idx, alpha in enumerate(lasso_alphas):\n",
        "  lasso = Lasso(alpha).fit(X_train,y_train)\n",
        "  \n",
        "\n",
        "  coeff = pd.Series(data=lasso.coef_,index=X_train.columns)\n",
        "  colname = 'alpha:'+str(alpha)\n",
        "  coeff_df[colname] = coeff\n",
        "\n",
        "  y_preds = lasso.predict(X_test)\n",
        "  mse = mean_squared_error(y_test,y_preds)\n",
        "  rmse = np.sqrt(mse)\n",
        "  print('alpha:',alpha)\n",
        "  print('rmse:',rmse)\n",
        "  print('Train Variance score:',lasso.score(X_train,y_train))\n",
        "  print('Test Variance score:',lasso.score(X_test,y_test))"
      ],
      "execution_count": 0,
      "outputs": [
        {
          "output_type": "stream",
          "text": [
            "alpha: 0.07\n",
            "rmse: 4.212121840351626\n",
            "Train Variance score: 0.7124281063363123\n",
            "Test Variance score: 0.7509796978590242\n",
            "alpha: 0.1\n",
            "rmse: 4.222415858691646\n",
            "Train Variance score: 0.7112922642769672\n",
            "Test Variance score: 0.7497610474831455\n",
            "alpha: 0.5\n",
            "rmse: 4.3877210285985\n",
            "Train Variance score: 0.6989196816993419\n",
            "Test Variance score: 0.7297840875842413\n",
            "alpha: 1\n",
            "rmse: 4.705007838439639\n",
            "Train Variance score: 0.670582669540182\n",
            "Test Variance score: 0.6892911611262599\n",
            "alpha: 3\n",
            "rmse: 5.439130697301936\n",
            "Train Variance score: 0.5832639578517178\n",
            "Test Variance score: 0.5847669678717631\n"
          ],
          "name": "stdout"
        }
      ]
    },
    {
      "cell_type": "code",
      "metadata": {
        "id": "ijnBxp-yBz7Z",
        "colab_type": "code",
        "outputId": "0d55c234-cb2f-4ae3-9289-cc764e1f36a8",
        "colab": {
          "base_uri": "https://localhost:8080/",
          "height": 432
        }
      },
      "source": [
        "# 첫 번째 컬럼순으로 내림차순 정렬\n",
        "sort_column = 'alpha:'+str(lasso_alphas[0])\n",
        "coeff_df.sort_values(by=sort_column,ascending=False)"
      ],
      "execution_count": 0,
      "outputs": [
        {
          "output_type": "execute_result",
          "data": {
            "text/html": [
              "<div>\n",
              "<style scoped>\n",
              "    .dataframe tbody tr th:only-of-type {\n",
              "        vertical-align: middle;\n",
              "    }\n",
              "\n",
              "    .dataframe tbody tr th {\n",
              "        vertical-align: top;\n",
              "    }\n",
              "\n",
              "    .dataframe thead th {\n",
              "        text-align: right;\n",
              "    }\n",
              "</style>\n",
              "<table border=\"1\" class=\"dataframe\">\n",
              "  <thead>\n",
              "    <tr style=\"text-align: right;\">\n",
              "      <th></th>\n",
              "      <th>alpha:0.07</th>\n",
              "      <th>alpha:0.1</th>\n",
              "      <th>alpha:0.5</th>\n",
              "      <th>alpha:1</th>\n",
              "      <th>alpha:3</th>\n",
              "    </tr>\n",
              "  </thead>\n",
              "  <tbody>\n",
              "    <tr>\n",
              "      <th>RM</th>\n",
              "      <td>3.327887</td>\n",
              "      <td>3.257028</td>\n",
              "      <td>2.158154</td>\n",
              "      <td>0.723950</td>\n",
              "      <td>0.000000</td>\n",
              "    </tr>\n",
              "    <tr>\n",
              "      <th>CHAS</th>\n",
              "      <td>1.671245</td>\n",
              "      <td>1.151522</td>\n",
              "      <td>0.000000</td>\n",
              "      <td>0.000000</td>\n",
              "      <td>0.000000</td>\n",
              "    </tr>\n",
              "    <tr>\n",
              "      <th>RAD</th>\n",
              "      <td>0.312682</td>\n",
              "      <td>0.314905</td>\n",
              "      <td>0.301565</td>\n",
              "      <td>0.269078</td>\n",
              "      <td>0.042953</td>\n",
              "    </tr>\n",
              "    <tr>\n",
              "      <th>ZN</th>\n",
              "      <td>0.071332</td>\n",
              "      <td>0.071786</td>\n",
              "      <td>0.074166</td>\n",
              "      <td>0.076116</td>\n",
              "      <td>0.060456</td>\n",
              "    </tr>\n",
              "    <tr>\n",
              "      <th>B</th>\n",
              "      <td>0.011654</td>\n",
              "      <td>0.011685</td>\n",
              "      <td>0.011388</td>\n",
              "      <td>0.010770</td>\n",
              "      <td>0.009307</td>\n",
              "    </tr>\n",
              "    <tr>\n",
              "      <th>NOX</th>\n",
              "      <td>-0.000000</td>\n",
              "      <td>-0.000000</td>\n",
              "      <td>-0.000000</td>\n",
              "      <td>-0.000000</td>\n",
              "      <td>0.000000</td>\n",
              "    </tr>\n",
              "    <tr>\n",
              "      <th>AGE</th>\n",
              "      <td>-0.007091</td>\n",
              "      <td>-0.005831</td>\n",
              "      <td>0.005912</td>\n",
              "      <td>0.021546</td>\n",
              "      <td>0.050342</td>\n",
              "    </tr>\n",
              "    <tr>\n",
              "      <th>TAX</th>\n",
              "      <td>-0.016279</td>\n",
              "      <td>-0.016509</td>\n",
              "      <td>-0.016660</td>\n",
              "      <td>-0.015541</td>\n",
              "      <td>-0.006449</td>\n",
              "    </tr>\n",
              "    <tr>\n",
              "      <th>INDUS</th>\n",
              "      <td>-0.034672</td>\n",
              "      <td>-0.028165</td>\n",
              "      <td>-0.000000</td>\n",
              "      <td>-0.000000</td>\n",
              "      <td>0.000000</td>\n",
              "    </tr>\n",
              "    <tr>\n",
              "      <th>CRIM</th>\n",
              "      <td>-0.093055</td>\n",
              "      <td>-0.092538</td>\n",
              "      <td>-0.075909</td>\n",
              "      <td>-0.053836</td>\n",
              "      <td>-0.000000</td>\n",
              "    </tr>\n",
              "    <tr>\n",
              "      <th>LSTAT</th>\n",
              "      <td>-0.616144</td>\n",
              "      <td>-0.623323</td>\n",
              "      <td>-0.699175</td>\n",
              "      <td>-0.789406</td>\n",
              "      <td>-0.815741</td>\n",
              "    </tr>\n",
              "    <tr>\n",
              "      <th>PTRATIO</th>\n",
              "      <td>-0.669022</td>\n",
              "      <td>-0.672075</td>\n",
              "      <td>-0.647230</td>\n",
              "      <td>-0.598687</td>\n",
              "      <td>-0.170188</td>\n",
              "    </tr>\n",
              "    <tr>\n",
              "      <th>DIS</th>\n",
              "      <td>-1.410759</td>\n",
              "      <td>-1.397752</td>\n",
              "      <td>-1.188243</td>\n",
              "      <td>-0.926869</td>\n",
              "      <td>-0.000000</td>\n",
              "    </tr>\n",
              "  </tbody>\n",
              "</table>\n",
              "</div>"
            ],
            "text/plain": [
              "         alpha:0.07  alpha:0.1  alpha:0.5   alpha:1   alpha:3\n",
              "RM         3.327887   3.257028   2.158154  0.723950  0.000000\n",
              "CHAS       1.671245   1.151522   0.000000  0.000000  0.000000\n",
              "RAD        0.312682   0.314905   0.301565  0.269078  0.042953\n",
              "ZN         0.071332   0.071786   0.074166  0.076116  0.060456\n",
              "B          0.011654   0.011685   0.011388  0.010770  0.009307\n",
              "NOX       -0.000000  -0.000000  -0.000000 -0.000000  0.000000\n",
              "AGE       -0.007091  -0.005831   0.005912  0.021546  0.050342\n",
              "TAX       -0.016279  -0.016509  -0.016660 -0.015541 -0.006449\n",
              "INDUS     -0.034672  -0.028165  -0.000000 -0.000000  0.000000\n",
              "CRIM      -0.093055  -0.092538  -0.075909 -0.053836 -0.000000\n",
              "LSTAT     -0.616144  -0.623323  -0.699175 -0.789406 -0.815741\n",
              "PTRATIO   -0.669022  -0.672075  -0.647230 -0.598687 -0.170188\n",
              "DIS       -1.410759  -1.397752  -1.188243 -0.926869 -0.000000"
            ]
          },
          "metadata": {
            "tags": []
          },
          "execution_count": 62
        }
      ]
    },
    {
      "cell_type": "markdown",
      "metadata": {
        "id": "LOhkiZByC4xv",
        "colab_type": "text"
      },
      "source": [
        "alpha의 크기가 증가함에 따라 일부 피처의 회귀 계수는 0으로 바뀌고 있다. 회귀 계수가 0인 피처는 회귀 식에서 제외되면서 피처 선택의 효과를 얻을 수 있다."
      ]
    },
    {
      "cell_type": "markdown",
      "metadata": {
        "id": "47AHGjZDMb7C",
        "colab_type": "text"
      },
      "source": [
        "## 엘라스틱넷 회귀\n",
        "- L2규제와 L1규제를 합친 것\n",
        "![대체 텍스트](https://img1.daumcdn.net/thumb/R1280x0/?scode=mtistory2&fname=https%3A%2F%2Ft1.daumcdn.net%2Fcfile%2Ftistory%2F99DFDF355C90F8532C)\n",
        "- 라쏘 회귀가 중요 피처만 선택 후, 다른 피처들은 모두 회귀 계수를 0으로 만드는 성향이 있음. 이러한 성향 때문에 회귀 계수의 값이 급격하게 변동을 할 수 있는데, 이를 완화하기 위해 리지 회귀의 L2 규제를 추가한 것이다.\n",
        "- 두 개의 규제가 결합되어 있기 때문에 상대적으로 오래 걸린다."
      ]
    },
    {
      "cell_type": "code",
      "metadata": {
        "id": "-Mhgyo1AQoQ4",
        "colab_type": "code",
        "outputId": "9f4a3bdb-a9b1-463c-cad9-793862dc6adb",
        "colab": {
          "base_uri": "https://localhost:8080/",
          "height": 369
        }
      },
      "source": [
        "from sklearn.linear_model import ElasticNet\n",
        "\n",
        "elastic_alphas=[0.07,0.1,0.5,1,3]\n",
        "\n",
        "coeff_df = pd.DataFrame()\n",
        "for idx, alpha in enumerate(elastic_alphas):\n",
        "  elastic = ElasticNet(alpha,l1_ratio=0.07).fit(X_train,y_train)  # l1_ratio: a /a+b\n",
        "  \n",
        "\n",
        "  coeff = pd.Series(data=elastic.coef_,index=X_train.columns)\n",
        "  colname = 'alpha:'+str(alpha)\n",
        "  coeff_df[colname] = coeff\n",
        "\n",
        "  y_preds = elastic.predict(X_test)\n",
        "  mse = mean_squared_error(y_test,y_preds)\n",
        "  rmse = np.sqrt(mse)\n",
        "  print('alpha:',alpha)\n",
        "  print('rmse:',rmse)\n",
        "  print('Train Variance score:',elastic.score(X_train,y_train))\n",
        "  print('Test Variance score:',elastic.score(X_test,y_test))"
      ],
      "execution_count": 0,
      "outputs": [
        {
          "output_type": "stream",
          "text": [
            "alpha: 0.07\n",
            "rmse: 4.250949162596892\n",
            "Train Variance score: 0.7117852428022275\n",
            "Test Variance score: 0.7463676019483518\n",
            "alpha: 0.1\n",
            "rmse: 4.278176600313743\n",
            "Train Variance score: 0.7098438487843206\n",
            "Test Variance score: 0.7431081528976299\n",
            "alpha: 0.5\n",
            "rmse: 4.485014280875817\n",
            "Train Variance score: 0.6917466245565024\n",
            "Test Variance score: 0.7176677001375401\n",
            "alpha: 1\n",
            "rmse: 4.6109309287703\n",
            "Train Variance score: 0.6779915189580445\n",
            "Test Variance score: 0.701592222166385\n",
            "alpha: 3\n",
            "rmse: 4.876583791878869\n",
            "Train Variance score: 0.6472385634824479\n",
            "Test Variance score: 0.6662169435460025\n"
          ],
          "name": "stdout"
        }
      ]
    },
    {
      "cell_type": "code",
      "metadata": {
        "id": "_1kfzok0RVal",
        "colab_type": "code",
        "outputId": "e2563af3-6c27-4f07-a24a-c461fd26c806",
        "colab": {
          "base_uri": "https://localhost:8080/",
          "height": 432
        }
      },
      "source": [
        "# 첫 번째 컬럼순으로 내림차순 정렬\n",
        "sort_column = 'alpha:'+str(lasso_alphas[0])\n",
        "coeff_df.sort_values(by=sort_column,ascending=False)"
      ],
      "execution_count": 0,
      "outputs": [
        {
          "output_type": "execute_result",
          "data": {
            "text/html": [
              "<div>\n",
              "<style scoped>\n",
              "    .dataframe tbody tr th:only-of-type {\n",
              "        vertical-align: middle;\n",
              "    }\n",
              "\n",
              "    .dataframe tbody tr th {\n",
              "        vertical-align: top;\n",
              "    }\n",
              "\n",
              "    .dataframe thead th {\n",
              "        text-align: right;\n",
              "    }\n",
              "</style>\n",
              "<table border=\"1\" class=\"dataframe\">\n",
              "  <thead>\n",
              "    <tr style=\"text-align: right;\">\n",
              "      <th></th>\n",
              "      <th>alpha:0.07</th>\n",
              "      <th>alpha:0.1</th>\n",
              "      <th>alpha:0.5</th>\n",
              "      <th>alpha:1</th>\n",
              "      <th>alpha:3</th>\n",
              "    </tr>\n",
              "  </thead>\n",
              "  <tbody>\n",
              "    <tr>\n",
              "      <th>RM</th>\n",
              "      <td>2.885519</td>\n",
              "      <td>2.684119</td>\n",
              "      <td>1.397577</td>\n",
              "      <td>0.885205</td>\n",
              "      <td>0.364494</td>\n",
              "    </tr>\n",
              "    <tr>\n",
              "      <th>CHAS</th>\n",
              "      <td>1.338815</td>\n",
              "      <td>1.088612</td>\n",
              "      <td>0.298238</td>\n",
              "      <td>0.138528</td>\n",
              "      <td>0.012293</td>\n",
              "    </tr>\n",
              "    <tr>\n",
              "      <th>RAD</th>\n",
              "      <td>0.331439</td>\n",
              "      <td>0.335853</td>\n",
              "      <td>0.351767</td>\n",
              "      <td>0.343111</td>\n",
              "      <td>0.282486</td>\n",
              "    </tr>\n",
              "    <tr>\n",
              "      <th>ZN</th>\n",
              "      <td>0.073506</td>\n",
              "      <td>0.074459</td>\n",
              "      <td>0.077601</td>\n",
              "      <td>0.077084</td>\n",
              "      <td>0.075053</td>\n",
              "    </tr>\n",
              "    <tr>\n",
              "      <th>B</th>\n",
              "      <td>0.011427</td>\n",
              "      <td>0.011376</td>\n",
              "      <td>0.010852</td>\n",
              "      <td>0.010563</td>\n",
              "      <td>0.010162</td>\n",
              "    </tr>\n",
              "    <tr>\n",
              "      <th>AGE</th>\n",
              "      <td>-0.003434</td>\n",
              "      <td>-0.001648</td>\n",
              "      <td>0.013516</td>\n",
              "      <td>0.023049</td>\n",
              "      <td>0.037628</td>\n",
              "    </tr>\n",
              "    <tr>\n",
              "      <th>TAX</th>\n",
              "      <td>-0.016711</td>\n",
              "      <td>-0.016948</td>\n",
              "      <td>-0.017792</td>\n",
              "      <td>-0.017691</td>\n",
              "      <td>-0.015786</td>\n",
              "    </tr>\n",
              "    <tr>\n",
              "      <th>INDUS</th>\n",
              "      <td>-0.037163</td>\n",
              "      <td>-0.036781</td>\n",
              "      <td>-0.023364</td>\n",
              "      <td>-0.007918</td>\n",
              "      <td>0.000000</td>\n",
              "    </tr>\n",
              "    <tr>\n",
              "      <th>CRIM</th>\n",
              "      <td>-0.099812</td>\n",
              "      <td>-0.100435</td>\n",
              "      <td>-0.099230</td>\n",
              "      <td>-0.093321</td>\n",
              "      <td>-0.076990</td>\n",
              "    </tr>\n",
              "    <tr>\n",
              "      <th>LSTAT</th>\n",
              "      <td>-0.642653</td>\n",
              "      <td>-0.656997</td>\n",
              "      <td>-0.741657</td>\n",
              "      <td>-0.770970</td>\n",
              "      <td>-0.773485</td>\n",
              "    </tr>\n",
              "    <tr>\n",
              "      <th>PTRATIO</th>\n",
              "      <td>-0.709625</td>\n",
              "      <td>-0.714302</td>\n",
              "      <td>-0.721157</td>\n",
              "      <td>-0.678928</td>\n",
              "      <td>-0.500984</td>\n",
              "    </tr>\n",
              "    <tr>\n",
              "      <th>NOX</th>\n",
              "      <td>-0.822975</td>\n",
              "      <td>-0.556422</td>\n",
              "      <td>-0.037562</td>\n",
              "      <td>-0.000000</td>\n",
              "      <td>-0.000000</td>\n",
              "    </tr>\n",
              "    <tr>\n",
              "      <th>DIS</th>\n",
              "      <td>-1.433585</td>\n",
              "      <td>-1.414072</td>\n",
              "      <td>-1.171161</td>\n",
              "      <td>-0.947460</td>\n",
              "      <td>-0.529687</td>\n",
              "    </tr>\n",
              "  </tbody>\n",
              "</table>\n",
              "</div>"
            ],
            "text/plain": [
              "         alpha:0.07  alpha:0.1  alpha:0.5   alpha:1   alpha:3\n",
              "RM         2.885519   2.684119   1.397577  0.885205  0.364494\n",
              "CHAS       1.338815   1.088612   0.298238  0.138528  0.012293\n",
              "RAD        0.331439   0.335853   0.351767  0.343111  0.282486\n",
              "ZN         0.073506   0.074459   0.077601  0.077084  0.075053\n",
              "B          0.011427   0.011376   0.010852  0.010563  0.010162\n",
              "AGE       -0.003434  -0.001648   0.013516  0.023049  0.037628\n",
              "TAX       -0.016711  -0.016948  -0.017792 -0.017691 -0.015786\n",
              "INDUS     -0.037163  -0.036781  -0.023364 -0.007918  0.000000\n",
              "CRIM      -0.099812  -0.100435  -0.099230 -0.093321 -0.076990\n",
              "LSTAT     -0.642653  -0.656997  -0.741657 -0.770970 -0.773485\n",
              "PTRATIO   -0.709625  -0.714302  -0.721157 -0.678928 -0.500984\n",
              "NOX       -0.822975  -0.556422  -0.037562 -0.000000 -0.000000\n",
              "DIS       -1.433585  -1.414072  -1.171161 -0.947460 -0.529687"
            ]
          },
          "metadata": {
            "tags": []
          },
          "execution_count": 66
        }
      ]
    },
    {
      "cell_type": "markdown",
      "metadata": {
        "id": "jVHwHeqBRjAP",
        "colab_type": "text"
      },
      "source": [
        "상대적으로 라쏘보다 0으로 가는 것이 적음."
      ]
    },
    {
      "cell_type": "markdown",
      "metadata": {
        "id": "XHdi37g3RskK",
        "colab_type": "text"
      },
      "source": [
        "# 데이터 정규화\n",
        "- 선형 회귀 모델에서는 데이터 분포도의 정규화와 인코딩이 먼저 선행이 되어야 한다는 점을 잊지말자."
      ]
    },
    {
      "cell_type": "markdown",
      "metadata": {
        "id": "OWjlsiV8SoM0",
        "colab_type": "text"
      },
      "source": [
        "기본적인 순서\n",
        "1. StandaredScaler 또는 MinMaxScaler를 이용해 정규화 진행 ( RobustScaler로 있음)\n",
        "2. 정규화가 된 피처들에 다항 특성(Polynomial)을 적용\n",
        "3. log 변환을 통해 정규 분포로 변환\n",
        " \n",
        "- 기본적으로 target이 왜곡된 형태이면 부정적인 영향을 미칠 가능성이 큼.\n",
        "- 피처값은 target보다는 덜하지만 왜곡된 분포도로 인해 예측 성능에 부정적인 영향을 끼칠 수 있음."
      ]
    }
  ]
}